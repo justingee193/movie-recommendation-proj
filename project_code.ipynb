{
 "cells": [
  {
   "cell_type": "markdown",
   "metadata": {},
   "source": [
    "# Movie Recommendation Project"
   ]
  },
  {
   "cell_type": "code",
   "execution_count": 3,
   "metadata": {},
   "outputs": [],
   "source": [
    "import sqlite3\n",
    "import pandas as pd\n",
    "import numpy as np\n",
    "import seaborn as sns\n",
    "import pdb\n",
    "from sklearn import mixture\n",
    "import matplotlib.pyplot as plt\n",
    "import math\n",
    "from itertools import permutations\n",
    "import random\n",
    "import sklearn.model_selection as model_selection\n",
    "from sklearn.linear_model import LogisticRegression, LinearRegression\n",
    "from sklearn.model_selection import train_test_split\n",
    "from sklearn.preprocessing import OneHotEncoder\n",
    "from sklearn.model_selection import cross_val_predict, cross_validate\n",
    "from sklearn import linear_model\n",
    "import matplotlib.pyplot as plt\n",
    "%matplotlib inline\n",
    "import statsmodels.api as sm\n",
    "from sklearn.metrics import median_absolute_error\n",
    "from sklearn.metrics import mean_absolute_error"
   ]
  },
  {
   "cell_type": "markdown",
   "metadata": {},
   "source": [
    "## Import Data sets"
   ]
  },
  {
   "cell_type": "code",
   "execution_count": 49,
   "metadata": {},
   "outputs": [],
   "source": [
    "allData = pd.read_csv('allData.tsv', sep='\\t')\n",
    "users = pd.read_csv('users.csv')"
   ]
  },
  {
   "cell_type": "markdown",
   "metadata": {},
   "source": [
    "## Cleaning and adjusting data set"
   ]
  },
  {
   "cell_type": "code",
   "execution_count": 50,
   "metadata": {},
   "outputs": [],
   "source": [
    "allData['genre'] = allData[allData.columns[6:9]].apply(lambda x: ', '.join(x.dropna().astype(str)), axis=1)\n",
    "allData_temp = allData.sort_values(by=['userID']).drop(['genre1', 'genre2', 'genre3'], axis=1)\n",
    "allData_new = allData_temp.drop('genre', axis=1).join(allData_temp['genre'].str.split(', ', expand=True).stack().reset_index(level=1, drop=True).rename('genre'))\n",
    "allData_dummies = pd.get_dummies(allData_new, columns=['genre']).sort_values(by=['userID'])\n",
    "allData_avg = allData_new.sort_values(by=['userID'])"
   ]
  },
  {
   "cell_type": "code",
   "execution_count": 51,
   "metadata": {},
   "outputs": [
    {
     "data": {
      "text/html": [
       "<div>\n",
       "<style scoped>\n",
       "    .dataframe tbody tr th:only-of-type {\n",
       "        vertical-align: middle;\n",
       "    }\n",
       "\n",
       "    .dataframe tbody tr th {\n",
       "        vertical-align: top;\n",
       "    }\n",
       "\n",
       "    .dataframe thead th {\n",
       "        text-align: right;\n",
       "    }\n",
       "</style>\n",
       "<table border=\"1\" class=\"dataframe\">\n",
       "  <thead>\n",
       "    <tr style=\"text-align: right;\">\n",
       "      <th></th>\n",
       "      <th>userID</th>\n",
       "      <th>age</th>\n",
       "      <th>gender</th>\n",
       "      <th>movieID</th>\n",
       "      <th>name</th>\n",
       "      <th>year</th>\n",
       "      <th>rating</th>\n",
       "      <th>genre</th>\n",
       "    </tr>\n",
       "  </thead>\n",
       "  <tbody>\n",
       "    <tr>\n",
       "      <th>14305</th>\n",
       "      <td>4</td>\n",
       "      <td>25</td>\n",
       "      <td>M</td>\n",
       "      <td>2245</td>\n",
       "      <td>Working Girl</td>\n",
       "      <td>1988</td>\n",
       "      <td>4</td>\n",
       "      <td>Drama</td>\n",
       "    </tr>\n",
       "    <tr>\n",
       "      <th>14305</th>\n",
       "      <td>4</td>\n",
       "      <td>25</td>\n",
       "      <td>M</td>\n",
       "      <td>2245</td>\n",
       "      <td>Working Girl</td>\n",
       "      <td>1988</td>\n",
       "      <td>4</td>\n",
       "      <td>Comedy</td>\n",
       "    </tr>\n",
       "    <tr>\n",
       "      <th>14306</th>\n",
       "      <td>4</td>\n",
       "      <td>25</td>\n",
       "      <td>M</td>\n",
       "      <td>2253</td>\n",
       "      <td>Toys</td>\n",
       "      <td>1992</td>\n",
       "      <td>1</td>\n",
       "      <td>Action</td>\n",
       "    </tr>\n",
       "    <tr>\n",
       "      <th>14306</th>\n",
       "      <td>4</td>\n",
       "      <td>25</td>\n",
       "      <td>M</td>\n",
       "      <td>2253</td>\n",
       "      <td>Toys</td>\n",
       "      <td>1992</td>\n",
       "      <td>1</td>\n",
       "      <td>Comedy</td>\n",
       "    </tr>\n",
       "    <tr>\n",
       "      <th>14306</th>\n",
       "      <td>4</td>\n",
       "      <td>25</td>\n",
       "      <td>M</td>\n",
       "      <td>2253</td>\n",
       "      <td>Toys</td>\n",
       "      <td>1992</td>\n",
       "      <td>1</td>\n",
       "      <td>Fantasy</td>\n",
       "    </tr>\n",
       "  </tbody>\n",
       "</table>\n",
       "</div>"
      ],
      "text/plain": [
       "       userID  age gender  movieID           name  year  rating    genre\n",
       "14305       4   25      M     2245  Working Girl   1988       4    Drama\n",
       "14305       4   25      M     2245  Working Girl   1988       4   Comedy\n",
       "14306       4   25      M     2253          Toys   1992       1   Action\n",
       "14306       4   25      M     2253          Toys   1992       1   Comedy\n",
       "14306       4   25      M     2253          Toys   1992       1  Fantasy"
      ]
     },
     "execution_count": 51,
     "metadata": {},
     "output_type": "execute_result"
    }
   ],
   "source": [
    "allData_avg.head()"
   ]
  },
  {
   "cell_type": "code",
   "execution_count": 52,
   "metadata": {},
   "outputs": [
    {
     "data": {
      "text/plain": [
       "['Action', 'Comedy', 'Drama']"
      ]
     },
     "execution_count": 52,
     "metadata": {},
     "output_type": "execute_result"
    }
   ],
   "source": [
    "# Selecting genres with the most observations\n",
    "genretype_list_temp = allData_avg.sort_values(by=['genre']).genre.unique()\n",
    "genretype_list = list()\n",
    "genretype_list.append(genretype_list_temp[0])\n",
    "genretype_list.append(genretype_list_temp[4])\n",
    "genretype_list.append(genretype_list_temp[7])\n",
    "genretype_list"
   ]
  },
  {
   "cell_type": "code",
   "execution_count": 53,
   "metadata": {},
   "outputs": [],
   "source": [
    "def rating_avg():\n",
    "    \"\"\"\n",
    "    Gets the average of all genres that a user has watched\n",
    "    \"\"\"\n",
    "    genre_dict = {}\n",
    "    for i in genretype_list[0:4]: #adjust to have columns we want\n",
    "        values = []\n",
    "        for j in users['userID']:\n",
    "            values.append(allData_dummies.loc[(allData_avg['genre'] == i) & (allData_avg['userID'] == j), 'rating'].mean())\n",
    "        genre_dict[i] = values\n",
    "    return genre_dict"
   ]
  },
  {
   "cell_type": "code",
   "execution_count": 54,
   "metadata": {},
   "outputs": [],
   "source": [
    "# Merge genre averages and users tables\n",
    "genre_rating_avg = pd.DataFrame(rating_avg())\n",
    "allData_df = pd.merge(users, genre_rating_avg, left_index=True, right_index=True)"
   ]
  },
  {
   "cell_type": "code",
   "execution_count": 55,
   "metadata": {},
   "outputs": [
    {
     "data": {
      "text/html": [
       "<div>\n",
       "<style scoped>\n",
       "    .dataframe tbody tr th:only-of-type {\n",
       "        vertical-align: middle;\n",
       "    }\n",
       "\n",
       "    .dataframe tbody tr th {\n",
       "        vertical-align: top;\n",
       "    }\n",
       "\n",
       "    .dataframe thead th {\n",
       "        text-align: right;\n",
       "    }\n",
       "</style>\n",
       "<table border=\"1\" class=\"dataframe\">\n",
       "  <thead>\n",
       "    <tr style=\"text-align: right;\">\n",
       "      <th></th>\n",
       "      <th>userID</th>\n",
       "      <th>age</th>\n",
       "      <th>gender</th>\n",
       "      <th>Action</th>\n",
       "      <th>Comedy</th>\n",
       "      <th>Drama</th>\n",
       "    </tr>\n",
       "  </thead>\n",
       "  <tbody>\n",
       "    <tr>\n",
       "      <th>0</th>\n",
       "      <td>4</td>\n",
       "      <td>25</td>\n",
       "      <td>M</td>\n",
       "      <td>2.5</td>\n",
       "      <td>3.00</td>\n",
       "      <td>3.111111</td>\n",
       "    </tr>\n",
       "    <tr>\n",
       "      <th>1</th>\n",
       "      <td>5</td>\n",
       "      <td>56</td>\n",
       "      <td>M</td>\n",
       "      <td>NaN</td>\n",
       "      <td>4.25</td>\n",
       "      <td>4.200000</td>\n",
       "    </tr>\n",
       "    <tr>\n",
       "      <th>2</th>\n",
       "      <td>6</td>\n",
       "      <td>50</td>\n",
       "      <td>M</td>\n",
       "      <td>4.0</td>\n",
       "      <td>3.75</td>\n",
       "      <td>NaN</td>\n",
       "    </tr>\n",
       "    <tr>\n",
       "      <th>3</th>\n",
       "      <td>15</td>\n",
       "      <td>45</td>\n",
       "      <td>M</td>\n",
       "      <td>4.5</td>\n",
       "      <td>4.50</td>\n",
       "      <td>4.266667</td>\n",
       "    </tr>\n",
       "    <tr>\n",
       "      <th>4</th>\n",
       "      <td>17</td>\n",
       "      <td>25</td>\n",
       "      <td>F</td>\n",
       "      <td>2.5</td>\n",
       "      <td>NaN</td>\n",
       "      <td>5.000000</td>\n",
       "    </tr>\n",
       "  </tbody>\n",
       "</table>\n",
       "</div>"
      ],
      "text/plain": [
       "   userID  age gender  Action  Comedy     Drama\n",
       "0       4   25      M     2.5    3.00  3.111111\n",
       "1       5   56      M     NaN    4.25  4.200000\n",
       "2       6   50      M     4.0    3.75       NaN\n",
       "3      15   45      M     4.5    4.50  4.266667\n",
       "4      17   25      F     2.5     NaN  5.000000"
      ]
     },
     "execution_count": 55,
     "metadata": {},
     "output_type": "execute_result"
    }
   ],
   "source": [
    "allData_df.head()"
   ]
  },
  {
   "cell_type": "code",
   "execution_count": 56,
   "metadata": {},
   "outputs": [],
   "source": [
    "def genre_selection(genres, missing_genres):\n",
    "    \"\"\"\n",
    "    Selects genres and sorts by value != NaN\n",
    "    :type genres: List[str] # filled in genres\n",
    "    :type missing_genres: List[str] # genre to impute\n",
    "    :rtype: DataFrame\n",
    "    \"\"\"\n",
    "    user_list = list()\n",
    "    genre_list = allData_df.loc[:, genres].dropna()\n",
    "    for i in genre_list.index.values:\n",
    "        count = 0\n",
    "        for j in missing_genres:\n",
    "            if math.isnan(allData_df.loc[i, j]) == True:\n",
    "                count += 1\n",
    "            if count == len(missing_genres):\n",
    "                user_list.append(i)\n",
    "    return allData_df.loc[user_list, :]"
   ]
  },
  {
   "cell_type": "code",
   "execution_count": 57,
   "metadata": {},
   "outputs": [],
   "source": [
    "users_new_ts = allData_df.copy()"
   ]
  },
  {
   "cell_type": "code",
   "execution_count": 58,
   "metadata": {},
   "outputs": [],
   "source": [
    "def chunks(l, n):\n",
    "    \"\"\"\n",
    "    Splits list into n amount of subsections\n",
    "    :type l: List[]\n",
    "    :type n: int\n",
    "    \"\"\"\n",
    "    for i in range(0, len(l), n):\n",
    "        yield l[i:i+n]"
   ]
  },
  {
   "cell_type": "markdown",
   "metadata": {},
   "source": [
    "## Use Gaussian Mixture Model and Expectation-Maximization to impute users ratings"
   ]
  },
  {
   "cell_type": "code",
   "execution_count": 59,
   "metadata": {},
   "outputs": [],
   "source": [
    "def impute(genres, missing_genres, n_components):\n",
    "    \"\"\"\n",
    "    Imputes missing values using Gaussian Mixture Model (GMM) and Expectation-Maximization (EM) algorithm\n",
    "    :type genres: List[str] # filled in genres\n",
    "    :type missing_genres: List[str] # genre to impute\n",
    "    :type n_components: int # arbitrary value\n",
    "    :rtype: DataFrame\n",
    "    \"\"\"\n",
    "    genre_sel = genre_selection(genres, missing_genres)\n",
    "    genre_stk = []\n",
    "    for i in genres:\n",
    "        genre_stk.append(genre_sel[i].values.reshape(-1,1))\n",
    "    train = np.vstack(genre_stk)\n",
    "    #n_components = ?, whatever value that seems relevant to the data : this line can be removed if we are using a fixed n_components\n",
    "    clf = mixture.GaussianMixture(n_components=n_components, covariance_type='full') # The GMM will iterate 100 times to find estimated values of the clusters\n",
    "    groups = clf.fit_predict(train) # Fits the groups that were generated to each user\n",
    "    group_list = list(chunks(groups, len(groups)//len(genres))) # splits the group array into x amount of genres   \n",
    "    group_values = clf.fit(train).means_ # Gets values from each group\n",
    "    group_dict = dict(zip(range(n_components), group_values))\n",
    "    for chunk in range(len(group_list)):\n",
    "        for idx, user in zip(range(len(genre_sel)), genre_sel.index.values): # gets individual indexes that correspond to the users in genre_sel\n",
    "            for m_genre in missing_genres: # gets individual genres in missing_genres\n",
    "                temp_group = group_list[chunk][idx] # saves the value found in groups to the corresponding user index\n",
    "                users_new_ts.loc[user,m_genre] = group_dict[temp_group] # replaces the current nan value to the corresponding group value generated\n",
    "    return users_new_ts"
   ]
  },
  {
   "cell_type": "code",
   "execution_count": 60,
   "metadata": {},
   "outputs": [],
   "source": [
    "def fill(df):\n",
    "    \"\"\"\n",
    "    :type df: DataFrame\n",
    "    :rtype: DataFrame\n",
    "    \"\"\"\n",
    "    impute(genres=['Action', 'Drama'], missing_genres=['Comedy'], n_components=5)\n",
    "    impute(genres=['Action', 'Comedy'], missing_genres=['Drama'], n_components=5)\n",
    "    impute(genres=['Drama', 'Comedy'], missing_genres=['Action'], n_components=5)\n",
    "    impute(genres=['Action'], missing_genres=['Drama', 'Comedy'], n_components=5)\n",
    "    impute(genres=['Drama'], missing_genres=['Action', 'Comedy'], n_components=5)\n",
    "    imputed_df = impute(genres=['Comedy'], missing_genres=['Action', 'Drama'], n_components=5)\n",
    "    return imputed_df"
   ]
  },
  {
   "cell_type": "code",
   "execution_count": 62,
   "metadata": {
    "scrolled": true
   },
   "outputs": [
    {
     "data": {
      "text/html": [
       "<div>\n",
       "<style scoped>\n",
       "    .dataframe tbody tr th:only-of-type {\n",
       "        vertical-align: middle;\n",
       "    }\n",
       "\n",
       "    .dataframe tbody tr th {\n",
       "        vertical-align: top;\n",
       "    }\n",
       "\n",
       "    .dataframe thead th {\n",
       "        text-align: right;\n",
       "    }\n",
       "</style>\n",
       "<table border=\"1\" class=\"dataframe\">\n",
       "  <thead>\n",
       "    <tr style=\"text-align: right;\">\n",
       "      <th></th>\n",
       "      <th>userID</th>\n",
       "      <th>age</th>\n",
       "      <th>gender</th>\n",
       "      <th>Action</th>\n",
       "      <th>Comedy</th>\n",
       "      <th>Drama</th>\n",
       "    </tr>\n",
       "  </thead>\n",
       "  <tbody>\n",
       "    <tr>\n",
       "      <th>0</th>\n",
       "      <td>4</td>\n",
       "      <td>25</td>\n",
       "      <td>M</td>\n",
       "      <td>2.500000</td>\n",
       "      <td>3.000000</td>\n",
       "      <td>3.111111</td>\n",
       "    </tr>\n",
       "    <tr>\n",
       "      <th>1</th>\n",
       "      <td>5</td>\n",
       "      <td>56</td>\n",
       "      <td>M</td>\n",
       "      <td>3.945052</td>\n",
       "      <td>4.250000</td>\n",
       "      <td>4.200000</td>\n",
       "    </tr>\n",
       "    <tr>\n",
       "      <th>2</th>\n",
       "      <td>6</td>\n",
       "      <td>50</td>\n",
       "      <td>M</td>\n",
       "      <td>4.000000</td>\n",
       "      <td>3.750000</td>\n",
       "      <td>5.000000</td>\n",
       "    </tr>\n",
       "    <tr>\n",
       "      <th>3</th>\n",
       "      <td>15</td>\n",
       "      <td>45</td>\n",
       "      <td>M</td>\n",
       "      <td>4.500000</td>\n",
       "      <td>4.500000</td>\n",
       "      <td>4.266667</td>\n",
       "    </tr>\n",
       "    <tr>\n",
       "      <th>4</th>\n",
       "      <td>17</td>\n",
       "      <td>25</td>\n",
       "      <td>F</td>\n",
       "      <td>2.500000</td>\n",
       "      <td>4.970282</td>\n",
       "      <td>5.000000</td>\n",
       "    </tr>\n",
       "  </tbody>\n",
       "</table>\n",
       "</div>"
      ],
      "text/plain": [
       "   userID  age gender    Action    Comedy     Drama\n",
       "0       4   25      M  2.500000  3.000000  3.111111\n",
       "1       5   56      M  3.945052  4.250000  4.200000\n",
       "2       6   50      M  4.000000  3.750000  5.000000\n",
       "3      15   45      M  4.500000  4.500000  4.266667\n",
       "4      17   25      F  2.500000  4.970282  5.000000"
      ]
     },
     "execution_count": 62,
     "metadata": {},
     "output_type": "execute_result"
    }
   ],
   "source": [
    "fill(users_new_ts).head()"
   ]
  },
  {
   "cell_type": "markdown",
   "metadata": {},
   "source": [
    "## This data set is saved onto a Data Base file along with other tables"
   ]
  },
  {
   "cell_type": "code",
   "execution_count": 4,
   "metadata": {},
   "outputs": [
    {
     "data": {
      "text/plain": [
       "<sqlite3.Cursor at 0x22ea61536c0>"
      ]
     },
     "execution_count": 4,
     "metadata": {},
     "output_type": "execute_result"
    }
   ],
   "source": [
    "conn = sqlite3.connect(\"project.db\")\n",
    "c = conn.cursor()\n",
    "c.execute(\"SELECT * FROM sqlite_master WHERE type='table'\")"
   ]
  },
  {
   "cell_type": "markdown",
   "metadata": {},
   "source": [
    "## Connect to data sets"
   ]
  },
  {
   "cell_type": "code",
   "execution_count": 112,
   "metadata": {},
   "outputs": [],
   "source": [
    "df_movies_new = pd.read_sql(\"SELECT * FROM movies_new\", conn) \n",
    "df_ts_vs = pd.read_sql(\"SELECT * FROM ts_vs\", conn)\n",
    "df_users_ts_vs = pd.read_sql(\"SELECT * FROM users_ts_vs \", conn)"
   ]
  },
  {
   "cell_type": "code",
   "execution_count": 65,
   "metadata": {},
   "outputs": [
    {
     "data": {
      "text/html": [
       "<div>\n",
       "<style scoped>\n",
       "    .dataframe tbody tr th:only-of-type {\n",
       "        vertical-align: middle;\n",
       "    }\n",
       "\n",
       "    .dataframe tbody tr th {\n",
       "        vertical-align: top;\n",
       "    }\n",
       "\n",
       "    .dataframe thead th {\n",
       "        text-align: right;\n",
       "    }\n",
       "</style>\n",
       "<table border=\"1\" class=\"dataframe\">\n",
       "  <thead>\n",
       "    <tr style=\"text-align: right;\">\n",
       "      <th></th>\n",
       "      <th>Action_ar</th>\n",
       "      <th>Action_c</th>\n",
       "      <th>Adventure_ar</th>\n",
       "      <th>Adventure_c</th>\n",
       "      <th>Animation_ar</th>\n",
       "      <th>Animation_c</th>\n",
       "      <th>Children's_ar</th>\n",
       "      <th>Children's_c</th>\n",
       "      <th>Comedy_ar</th>\n",
       "      <th>Comedy_c</th>\n",
       "      <th>...</th>\n",
       "      <th>Thriller_ar</th>\n",
       "      <th>Thriller_c</th>\n",
       "      <th>War_ar</th>\n",
       "      <th>War_c</th>\n",
       "      <th>Western_ar</th>\n",
       "      <th>Western_c</th>\n",
       "      <th>age</th>\n",
       "      <th>gender</th>\n",
       "      <th>gender_c</th>\n",
       "      <th>userID</th>\n",
       "    </tr>\n",
       "  </thead>\n",
       "  <tbody>\n",
       "    <tr>\n",
       "      <th>0</th>\n",
       "      <td>2.5</td>\n",
       "      <td>8</td>\n",
       "      <td>2.0</td>\n",
       "      <td>2</td>\n",
       "      <td>NaN</td>\n",
       "      <td>0</td>\n",
       "      <td>NaN</td>\n",
       "      <td>0</td>\n",
       "      <td>3.00</td>\n",
       "      <td>5</td>\n",
       "      <td>...</td>\n",
       "      <td>2.666667</td>\n",
       "      <td>3</td>\n",
       "      <td>NaN</td>\n",
       "      <td>0</td>\n",
       "      <td>NaN</td>\n",
       "      <td>0</td>\n",
       "      <td>25</td>\n",
       "      <td>M</td>\n",
       "      <td>None</td>\n",
       "      <td>4</td>\n",
       "    </tr>\n",
       "    <tr>\n",
       "      <th>1</th>\n",
       "      <td>NaN</td>\n",
       "      <td>0</td>\n",
       "      <td>NaN</td>\n",
       "      <td>0</td>\n",
       "      <td>NaN</td>\n",
       "      <td>0</td>\n",
       "      <td>NaN</td>\n",
       "      <td>0</td>\n",
       "      <td>4.25</td>\n",
       "      <td>4</td>\n",
       "      <td>...</td>\n",
       "      <td>NaN</td>\n",
       "      <td>0</td>\n",
       "      <td>NaN</td>\n",
       "      <td>0</td>\n",
       "      <td>NaN</td>\n",
       "      <td>0</td>\n",
       "      <td>56</td>\n",
       "      <td>M</td>\n",
       "      <td>None</td>\n",
       "      <td>5</td>\n",
       "    </tr>\n",
       "    <tr>\n",
       "      <th>2</th>\n",
       "      <td>4.0</td>\n",
       "      <td>5</td>\n",
       "      <td>4.0</td>\n",
       "      <td>1</td>\n",
       "      <td>NaN</td>\n",
       "      <td>0</td>\n",
       "      <td>3.0</td>\n",
       "      <td>1</td>\n",
       "      <td>3.75</td>\n",
       "      <td>4</td>\n",
       "      <td>...</td>\n",
       "      <td>4.000000</td>\n",
       "      <td>5</td>\n",
       "      <td>4.0</td>\n",
       "      <td>1</td>\n",
       "      <td>NaN</td>\n",
       "      <td>0</td>\n",
       "      <td>50</td>\n",
       "      <td>M</td>\n",
       "      <td>None</td>\n",
       "      <td>6</td>\n",
       "    </tr>\n",
       "    <tr>\n",
       "      <th>3</th>\n",
       "      <td>4.5</td>\n",
       "      <td>6</td>\n",
       "      <td>4.4</td>\n",
       "      <td>5</td>\n",
       "      <td>4.5</td>\n",
       "      <td>2</td>\n",
       "      <td>5.0</td>\n",
       "      <td>1</td>\n",
       "      <td>4.50</td>\n",
       "      <td>12</td>\n",
       "      <td>...</td>\n",
       "      <td>4.600000</td>\n",
       "      <td>10</td>\n",
       "      <td>4.5</td>\n",
       "      <td>2</td>\n",
       "      <td>NaN</td>\n",
       "      <td>0</td>\n",
       "      <td>45</td>\n",
       "      <td>M</td>\n",
       "      <td>None</td>\n",
       "      <td>15</td>\n",
       "    </tr>\n",
       "    <tr>\n",
       "      <th>4</th>\n",
       "      <td>2.5</td>\n",
       "      <td>4</td>\n",
       "      <td>NaN</td>\n",
       "      <td>0</td>\n",
       "      <td>NaN</td>\n",
       "      <td>0</td>\n",
       "      <td>3.0</td>\n",
       "      <td>1</td>\n",
       "      <td>NaN</td>\n",
       "      <td>0</td>\n",
       "      <td>...</td>\n",
       "      <td>4.000000</td>\n",
       "      <td>2</td>\n",
       "      <td>NaN</td>\n",
       "      <td>0</td>\n",
       "      <td>NaN</td>\n",
       "      <td>0</td>\n",
       "      <td>25</td>\n",
       "      <td>F</td>\n",
       "      <td>None</td>\n",
       "      <td>17</td>\n",
       "    </tr>\n",
       "  </tbody>\n",
       "</table>\n",
       "<p>5 rows × 40 columns</p>\n",
       "</div>"
      ],
      "text/plain": [
       "   Action_ar  Action_c  Adventure_ar  Adventure_c  Animation_ar  Animation_c  \\\n",
       "0        2.5         8           2.0            2           NaN            0   \n",
       "1        NaN         0           NaN            0           NaN            0   \n",
       "2        4.0         5           4.0            1           NaN            0   \n",
       "3        4.5         6           4.4            5           4.5            2   \n",
       "4        2.5         4           NaN            0           NaN            0   \n",
       "\n",
       "   Children's_ar  Children's_c  Comedy_ar  Comedy_c  ...  Thriller_ar  \\\n",
       "0            NaN             0       3.00         5  ...     2.666667   \n",
       "1            NaN             0       4.25         4  ...          NaN   \n",
       "2            3.0             1       3.75         4  ...     4.000000   \n",
       "3            5.0             1       4.50        12  ...     4.600000   \n",
       "4            3.0             1        NaN         0  ...     4.000000   \n",
       "\n",
       "   Thriller_c  War_ar  War_c  Western_ar  Western_c  age  gender  gender_c  \\\n",
       "0           3     NaN      0         NaN          0   25       M      None   \n",
       "1           0     NaN      0         NaN          0   56       M      None   \n",
       "2           5     4.0      1         NaN          0   50       M      None   \n",
       "3          10     4.5      2         NaN          0   45       M      None   \n",
       "4           2     NaN      0         NaN          0   25       F      None   \n",
       "\n",
       "   userID  \n",
       "0       4  \n",
       "1       5  \n",
       "2       6  \n",
       "3      15  \n",
       "4      17  \n",
       "\n",
       "[5 rows x 40 columns]"
      ]
     },
     "execution_count": 65,
     "metadata": {},
     "output_type": "execute_result"
    }
   ],
   "source": [
    "df_users_ts_vs.head()"
   ]
  },
  {
   "cell_type": "markdown",
   "metadata": {},
   "source": [
    "## Functions"
   ]
  },
  {
   "cell_type": "code",
   "execution_count": 66,
   "metadata": {},
   "outputs": [],
   "source": [
    "def select_columns_users(df):\n",
    "    \"\"\"\n",
    "    Selected columns, return a dataframe\n",
    "    \"\"\"\n",
    "    return df[['Comedy_ar','Comedy_c','Drama_ar',\n",
    "               'Drama_c','Action_ar','Action_c',\n",
    "               'age','gender','userID']]\n",
    "\n",
    "def select_columns_ratings(df):\n",
    "    \"\"\"\n",
    "    Selected columns, return a dataframe\n",
    "    \"\"\"\n",
    "    return df[['movieID','userID','rating']] \n",
    "\n",
    "def filter_NaN(df):\n",
    "    \"\"\"\n",
    "    Drops NA values\n",
    "    \"\"\"\n",
    "    return df.dropna()\n",
    "\n",
    "def merge_ratings_users_new(ratings, filtered, movies_new):\n",
    "    \"\"\"\n",
    "    Merge ratings dataframe, filtered new user dataframe and movies new dataframe\n",
    "    into the final dataframe that is used to do regression\n",
    "    \"\"\"\n",
    "    merge = ratings.merge(filtered, how = 'left', on = ['userID'])\n",
    "    final = merge.merge(movies_new, how = 'left', on = ['movieID'])\n",
    "    return final\n",
    "\n",
    "def get_dummy_gender(df):\n",
    "    \"\"\"\n",
    "    Create dummy variables for gender\n",
    "    \"\"\"\n",
    "    return pd.get_dummies(df['gender'])\n",
    "\n",
    "def get_aged(df):\n",
    "    \"\"\"\n",
    "    Creates adjusted 'year' column\n",
    "    \"\"\"\n",
    "    return 2019 - df['year']\n",
    "\n",
    "def x_y(df):\n",
    "    \"\"\"\n",
    "    Gets X variables and y variable\n",
    "    \"\"\"\n",
    "    x = np.empty(24)\n",
    "    y = np.empty(1)\n",
    "    x = df[['Comedy_ar','Comedy_c','Drama_ar',\n",
    "            'Drama_c','Action_ar','Action_c',\n",
    "            'age','gender','Adventure',\n",
    "            'Animation', \"Children's\",'Crime',\n",
    "            'Documentary','Fantasy','Film-Noir',\n",
    "            'Horror','Musical','Mystery',\n",
    "            'Romance','Sci-Fi','Thriller',\n",
    "            'War','Western','Aged']]\n",
    "    y = df['rating']\n",
    "    return x,y\n",
    "\n",
    "def get_scores(linreg,x,y):\n",
    "    \"\"\"\n",
    "    Gets linear regression score\n",
    "    \"\"\"\n",
    "    scores = cross_validate(linreg, x, y, cv=10, scoring='neg_median_absolute_error', \n",
    "                            return_train_score=False)\n",
    "    test_score = np.mean(-1*scores['test_score'])\n",
    "    return test_score\n",
    "\n",
    "def imputation_mean(df,ls_g):\n",
    "    \"\"\"\n",
    "    take a users_new table, which as _ar and _c\n",
    "    and a list of genres with missing value in _ar\n",
    "    fill in the missing value with mean of the column\n",
    "    return imputed data frame\n",
    "    \"\"\"\n",
    "    df_filled = df.copy()\n",
    "    for g in ls_g:\n",
    "        df_filled[g+\"_ar\"] = df[g+\"_ar\"].fillna((df[g+\"_ar\"].mean()),inplace = False)\n",
    "    return df_filled"
   ]
  },
  {
   "cell_type": "markdown",
   "metadata": {},
   "source": [
    "## Linear regression for mean imputed data set"
   ]
  },
  {
   "cell_type": "code",
   "execution_count": 67,
   "metadata": {},
   "outputs": [],
   "source": [
    "df_three_genres = select_columns_users(df_users_ts_vs)\n",
    "df_final_ratings = select_columns_ratings (df_ts_vs)\n",
    "df_mean_imputation = imputation_mean(df_three_genres,['Comedy','Drama','Action'])\n",
    "df_final = merge_ratings_users_new(df_final_ratings, df_mean_imputation,df_movies_new)\n",
    "df_final['gender'] = get_dummy_gender(df_final)\n",
    "df_final['Aged'] = get_aged(df_final)"
   ]
  },
  {
   "cell_type": "code",
   "execution_count": 68,
   "metadata": {},
   "outputs": [
    {
     "data": {
      "text/html": [
       "<div>\n",
       "<style scoped>\n",
       "    .dataframe tbody tr th:only-of-type {\n",
       "        vertical-align: middle;\n",
       "    }\n",
       "\n",
       "    .dataframe tbody tr th {\n",
       "        vertical-align: top;\n",
       "    }\n",
       "\n",
       "    .dataframe thead th {\n",
       "        text-align: right;\n",
       "    }\n",
       "</style>\n",
       "<table border=\"1\" class=\"dataframe\">\n",
       "  <thead>\n",
       "    <tr style=\"text-align: right;\">\n",
       "      <th></th>\n",
       "      <th>Comedy_ar</th>\n",
       "      <th>Comedy_c</th>\n",
       "      <th>Drama_ar</th>\n",
       "      <th>Drama_c</th>\n",
       "      <th>Action_ar</th>\n",
       "      <th>Action_c</th>\n",
       "      <th>age</th>\n",
       "      <th>gender</th>\n",
       "      <th>Adventure</th>\n",
       "      <th>Animation</th>\n",
       "      <th>...</th>\n",
       "      <th>Film-Noir</th>\n",
       "      <th>Horror</th>\n",
       "      <th>Musical</th>\n",
       "      <th>Mystery</th>\n",
       "      <th>Romance</th>\n",
       "      <th>Sci-Fi</th>\n",
       "      <th>Thriller</th>\n",
       "      <th>War</th>\n",
       "      <th>Western</th>\n",
       "      <th>Aged</th>\n",
       "    </tr>\n",
       "  </thead>\n",
       "  <tbody>\n",
       "    <tr>\n",
       "      <th>0</th>\n",
       "      <td>3.562500</td>\n",
       "      <td>16</td>\n",
       "      <td>3.285714</td>\n",
       "      <td>7</td>\n",
       "      <td>3.000000</td>\n",
       "      <td>5</td>\n",
       "      <td>18</td>\n",
       "      <td>1</td>\n",
       "      <td>0</td>\n",
       "      <td>0</td>\n",
       "      <td>...</td>\n",
       "      <td>0</td>\n",
       "      <td>0</td>\n",
       "      <td>0</td>\n",
       "      <td>0</td>\n",
       "      <td>0</td>\n",
       "      <td>0</td>\n",
       "      <td>0</td>\n",
       "      <td>0</td>\n",
       "      <td>0</td>\n",
       "      <td>22</td>\n",
       "    </tr>\n",
       "    <tr>\n",
       "      <th>1</th>\n",
       "      <td>3.733333</td>\n",
       "      <td>30</td>\n",
       "      <td>3.769231</td>\n",
       "      <td>26</td>\n",
       "      <td>3.714286</td>\n",
       "      <td>21</td>\n",
       "      <td>25</td>\n",
       "      <td>0</td>\n",
       "      <td>0</td>\n",
       "      <td>0</td>\n",
       "      <td>...</td>\n",
       "      <td>0</td>\n",
       "      <td>0</td>\n",
       "      <td>0</td>\n",
       "      <td>0</td>\n",
       "      <td>0</td>\n",
       "      <td>0</td>\n",
       "      <td>1</td>\n",
       "      <td>0</td>\n",
       "      <td>0</td>\n",
       "      <td>24</td>\n",
       "    </tr>\n",
       "    <tr>\n",
       "      <th>2</th>\n",
       "      <td>3.956522</td>\n",
       "      <td>23</td>\n",
       "      <td>4.058824</td>\n",
       "      <td>17</td>\n",
       "      <td>4.250000</td>\n",
       "      <td>8</td>\n",
       "      <td>18</td>\n",
       "      <td>0</td>\n",
       "      <td>0</td>\n",
       "      <td>0</td>\n",
       "      <td>...</td>\n",
       "      <td>0</td>\n",
       "      <td>0</td>\n",
       "      <td>0</td>\n",
       "      <td>0</td>\n",
       "      <td>1</td>\n",
       "      <td>0</td>\n",
       "      <td>0</td>\n",
       "      <td>0</td>\n",
       "      <td>0</td>\n",
       "      <td>21</td>\n",
       "    </tr>\n",
       "    <tr>\n",
       "      <th>3</th>\n",
       "      <td>3.640000</td>\n",
       "      <td>50</td>\n",
       "      <td>3.744186</td>\n",
       "      <td>43</td>\n",
       "      <td>2.666667</td>\n",
       "      <td>18</td>\n",
       "      <td>25</td>\n",
       "      <td>0</td>\n",
       "      <td>0</td>\n",
       "      <td>0</td>\n",
       "      <td>...</td>\n",
       "      <td>0</td>\n",
       "      <td>0</td>\n",
       "      <td>0</td>\n",
       "      <td>0</td>\n",
       "      <td>0</td>\n",
       "      <td>0</td>\n",
       "      <td>0</td>\n",
       "      <td>0</td>\n",
       "      <td>0</td>\n",
       "      <td>29</td>\n",
       "    </tr>\n",
       "    <tr>\n",
       "      <th>4</th>\n",
       "      <td>3.363636</td>\n",
       "      <td>33</td>\n",
       "      <td>3.694444</td>\n",
       "      <td>36</td>\n",
       "      <td>3.333333</td>\n",
       "      <td>18</td>\n",
       "      <td>35</td>\n",
       "      <td>1</td>\n",
       "      <td>0</td>\n",
       "      <td>0</td>\n",
       "      <td>...</td>\n",
       "      <td>0</td>\n",
       "      <td>0</td>\n",
       "      <td>0</td>\n",
       "      <td>0</td>\n",
       "      <td>0</td>\n",
       "      <td>0</td>\n",
       "      <td>0</td>\n",
       "      <td>0</td>\n",
       "      <td>0</td>\n",
       "      <td>31</td>\n",
       "    </tr>\n",
       "  </tbody>\n",
       "</table>\n",
       "<p>5 rows × 24 columns</p>\n",
       "</div>"
      ],
      "text/plain": [
       "   Comedy_ar  Comedy_c  Drama_ar  Drama_c  Action_ar  Action_c  age  gender  \\\n",
       "0   3.562500        16  3.285714        7   3.000000         5   18       1   \n",
       "1   3.733333        30  3.769231       26   3.714286        21   25       0   \n",
       "2   3.956522        23  4.058824       17   4.250000         8   18       0   \n",
       "3   3.640000        50  3.744186       43   2.666667        18   25       0   \n",
       "4   3.363636        33  3.694444       36   3.333333        18   35       1   \n",
       "\n",
       "   Adventure  Animation  ...  Film-Noir  Horror  Musical  Mystery  Romance  \\\n",
       "0          0          0  ...          0       0        0        0        0   \n",
       "1          0          0  ...          0       0        0        0        0   \n",
       "2          0          0  ...          0       0        0        0        1   \n",
       "3          0          0  ...          0       0        0        0        0   \n",
       "4          0          0  ...          0       0        0        0        0   \n",
       "\n",
       "   Sci-Fi  Thriller  War  Western  Aged  \n",
       "0       0         0    0        0    22  \n",
       "1       0         1    0        0    24  \n",
       "2       0         0    0        0    21  \n",
       "3       0         0    0        0    29  \n",
       "4       0         0    0        0    31  \n",
       "\n",
       "[5 rows x 24 columns]"
      ]
     },
     "execution_count": 68,
     "metadata": {},
     "output_type": "execute_result"
    }
   ],
   "source": [
    "(x,y) = x_y(df_final)\n",
    "x.head()"
   ]
  },
  {
   "cell_type": "code",
   "execution_count": 132,
   "metadata": {},
   "outputs": [],
   "source": [
    "model = sm.OLS(y, x).fit()\n",
    "predictions = model.predict(x)\n",
    "# model.summary()"
   ]
  },
  {
   "cell_type": "markdown",
   "metadata": {},
   "source": [
    "## Linear Regression approach"
   ]
  },
  {
   "cell_type": "code",
   "execution_count": 70,
   "metadata": {},
   "outputs": [
    {
     "data": {
      "text/plain": [
       "LinearRegression(copy_X=True, fit_intercept=False, n_jobs=None, normalize=False)"
      ]
     },
     "execution_count": 70,
     "metadata": {},
     "output_type": "execute_result"
    }
   ],
   "source": [
    "linreg=LinearRegression(fit_intercept=False)\n",
    "linreg.fit(x,y)"
   ]
  },
  {
   "cell_type": "code",
   "execution_count": 131,
   "metadata": {},
   "outputs": [
    {
     "data": {
      "text/plain": [
       "0.662636751726311"
      ]
     },
     "execution_count": 131,
     "metadata": {},
     "output_type": "execute_result"
    }
   ],
   "source": [
    "test_score = get_scores(linreg,x,y)\n",
    "test_score"
   ]
  },
  {
   "cell_type": "markdown",
   "metadata": {},
   "source": [
    "## Mean Imputation Prediction"
   ]
  },
  {
   "cell_type": "code",
   "execution_count": 72,
   "metadata": {},
   "outputs": [],
   "source": [
    "df_test_set = pd.read_sql(\"SELECT * FROM test_set \", conn)\n",
    "df_test_set_ratings = select_columns_ratings (df_test_set)\n",
    "df_test_set_final = merge_ratings_users_new(df_test_set_ratings, df_mean_imputation,df_movies_new)\n",
    "df_test_set_final['gender'] = get_dummy_gender(df_test_set_final)\n",
    "df_test_set_final['Aged'] = get_aged(df_test_set_final)\n",
    "(x_mean,y_mean) = x_y(df_test_set_final)"
   ]
  },
  {
   "cell_type": "code",
   "execution_count": 120,
   "metadata": {},
   "outputs": [
    {
     "name": "stdout",
     "output_type": "stream",
     "text": [
      "0.06037899362875034\n",
      "0.8161111533573069\n"
     ]
    }
   ],
   "source": [
    "y_mean_predict = linreg.predict(x_mean)\n",
    "mean_norm_ave = np.linalg.norm(y_mean - y_mean_predict)/300\n",
    "print(mean_norm_ave); print(mean_absolute_error(y_mean, y_mean_predict))"
   ]
  },
  {
   "cell_type": "markdown",
   "metadata": {},
   "source": [
    "## Linear Regression for GMM imputed data set"
   ]
  },
  {
   "cell_type": "code",
   "execution_count": 76,
   "metadata": {},
   "outputs": [
    {
     "data": {
      "text/html": [
       "<div>\n",
       "<style scoped>\n",
       "    .dataframe tbody tr th:only-of-type {\n",
       "        vertical-align: middle;\n",
       "    }\n",
       "\n",
       "    .dataframe tbody tr th {\n",
       "        vertical-align: top;\n",
       "    }\n",
       "\n",
       "    .dataframe thead th {\n",
       "        text-align: right;\n",
       "    }\n",
       "</style>\n",
       "<table border=\"1\" class=\"dataframe\">\n",
       "  <thead>\n",
       "    <tr style=\"text-align: right;\">\n",
       "      <th></th>\n",
       "      <th>Unnamed: 0</th>\n",
       "      <th>Action_ar</th>\n",
       "      <th>Action_c</th>\n",
       "      <th>Adventure_ar</th>\n",
       "      <th>Adventure_c</th>\n",
       "      <th>Animation_ar</th>\n",
       "      <th>Children's_ar</th>\n",
       "      <th>Children's_c</th>\n",
       "      <th>Comedy_ar</th>\n",
       "      <th>Comedy_c</th>\n",
       "      <th>...</th>\n",
       "      <th>Sci-Fi_c</th>\n",
       "      <th>Thriller_ar</th>\n",
       "      <th>Thriller_c</th>\n",
       "      <th>War_ar</th>\n",
       "      <th>War_c</th>\n",
       "      <th>Western_ar</th>\n",
       "      <th>Western_c</th>\n",
       "      <th>age</th>\n",
       "      <th>gender</th>\n",
       "      <th>userID</th>\n",
       "    </tr>\n",
       "  </thead>\n",
       "  <tbody>\n",
       "    <tr>\n",
       "      <th>0</th>\n",
       "      <td>0</td>\n",
       "      <td>2.500000</td>\n",
       "      <td>8</td>\n",
       "      <td>2.0</td>\n",
       "      <td>2</td>\n",
       "      <td>NaN</td>\n",
       "      <td>NaN</td>\n",
       "      <td>0</td>\n",
       "      <td>3.000000</td>\n",
       "      <td>5</td>\n",
       "      <td>...</td>\n",
       "      <td>1</td>\n",
       "      <td>2.666667</td>\n",
       "      <td>3</td>\n",
       "      <td>NaN</td>\n",
       "      <td>0</td>\n",
       "      <td>NaN</td>\n",
       "      <td>0</td>\n",
       "      <td>25</td>\n",
       "      <td>M</td>\n",
       "      <td>4</td>\n",
       "    </tr>\n",
       "    <tr>\n",
       "      <th>1</th>\n",
       "      <td>1</td>\n",
       "      <td>2.157754</td>\n",
       "      <td>0</td>\n",
       "      <td>NaN</td>\n",
       "      <td>0</td>\n",
       "      <td>NaN</td>\n",
       "      <td>NaN</td>\n",
       "      <td>0</td>\n",
       "      <td>4.250000</td>\n",
       "      <td>4</td>\n",
       "      <td>...</td>\n",
       "      <td>0</td>\n",
       "      <td>NaN</td>\n",
       "      <td>0</td>\n",
       "      <td>NaN</td>\n",
       "      <td>0</td>\n",
       "      <td>NaN</td>\n",
       "      <td>0</td>\n",
       "      <td>56</td>\n",
       "      <td>M</td>\n",
       "      <td>5</td>\n",
       "    </tr>\n",
       "    <tr>\n",
       "      <th>2</th>\n",
       "      <td>2</td>\n",
       "      <td>4.000000</td>\n",
       "      <td>5</td>\n",
       "      <td>4.0</td>\n",
       "      <td>1</td>\n",
       "      <td>NaN</td>\n",
       "      <td>3.0</td>\n",
       "      <td>1</td>\n",
       "      <td>3.750000</td>\n",
       "      <td>4</td>\n",
       "      <td>...</td>\n",
       "      <td>0</td>\n",
       "      <td>4.000000</td>\n",
       "      <td>5</td>\n",
       "      <td>4.0</td>\n",
       "      <td>1</td>\n",
       "      <td>NaN</td>\n",
       "      <td>0</td>\n",
       "      <td>50</td>\n",
       "      <td>M</td>\n",
       "      <td>6</td>\n",
       "    </tr>\n",
       "    <tr>\n",
       "      <th>3</th>\n",
       "      <td>3</td>\n",
       "      <td>4.500000</td>\n",
       "      <td>6</td>\n",
       "      <td>4.4</td>\n",
       "      <td>5</td>\n",
       "      <td>4.5</td>\n",
       "      <td>5.0</td>\n",
       "      <td>1</td>\n",
       "      <td>4.500000</td>\n",
       "      <td>12</td>\n",
       "      <td>...</td>\n",
       "      <td>4</td>\n",
       "      <td>4.600000</td>\n",
       "      <td>10</td>\n",
       "      <td>4.5</td>\n",
       "      <td>2</td>\n",
       "      <td>NaN</td>\n",
       "      <td>0</td>\n",
       "      <td>45</td>\n",
       "      <td>M</td>\n",
       "      <td>15</td>\n",
       "    </tr>\n",
       "    <tr>\n",
       "      <th>4</th>\n",
       "      <td>4</td>\n",
       "      <td>2.500000</td>\n",
       "      <td>4</td>\n",
       "      <td>NaN</td>\n",
       "      <td>0</td>\n",
       "      <td>NaN</td>\n",
       "      <td>3.0</td>\n",
       "      <td>1</td>\n",
       "      <td>1.980624</td>\n",
       "      <td>0</td>\n",
       "      <td>...</td>\n",
       "      <td>4</td>\n",
       "      <td>4.000000</td>\n",
       "      <td>2</td>\n",
       "      <td>NaN</td>\n",
       "      <td>0</td>\n",
       "      <td>NaN</td>\n",
       "      <td>0</td>\n",
       "      <td>25</td>\n",
       "      <td>F</td>\n",
       "      <td>17</td>\n",
       "    </tr>\n",
       "  </tbody>\n",
       "</table>\n",
       "<p>5 rows × 37 columns</p>\n",
       "</div>"
      ],
      "text/plain": [
       "   Unnamed: 0  Action_ar  Action_c  Adventure_ar  Adventure_c  Animation_ar  \\\n",
       "0           0   2.500000         8           2.0            2           NaN   \n",
       "1           1   2.157754         0           NaN            0           NaN   \n",
       "2           2   4.000000         5           4.0            1           NaN   \n",
       "3           3   4.500000         6           4.4            5           4.5   \n",
       "4           4   2.500000         4           NaN            0           NaN   \n",
       "\n",
       "   Children's_ar  Children's_c  Comedy_ar  Comedy_c  ...  Sci-Fi_c  \\\n",
       "0            NaN             0   3.000000         5  ...         1   \n",
       "1            NaN             0   4.250000         4  ...         0   \n",
       "2            3.0             1   3.750000         4  ...         0   \n",
       "3            5.0             1   4.500000        12  ...         4   \n",
       "4            3.0             1   1.980624         0  ...         4   \n",
       "\n",
       "   Thriller_ar  Thriller_c  War_ar  War_c  Western_ar  Western_c  age  gender  \\\n",
       "0     2.666667           3     NaN      0         NaN          0   25       M   \n",
       "1          NaN           0     NaN      0         NaN          0   56       M   \n",
       "2     4.000000           5     4.0      1         NaN          0   50       M   \n",
       "3     4.600000          10     4.5      2         NaN          0   45       M   \n",
       "4     4.000000           2     NaN      0         NaN          0   25       F   \n",
       "\n",
       "   userID  \n",
       "0       4  \n",
       "1       5  \n",
       "2       6  \n",
       "3      15  \n",
       "4      17  \n",
       "\n",
       "[5 rows x 37 columns]"
      ]
     },
     "execution_count": 76,
     "metadata": {},
     "output_type": "execute_result"
    }
   ],
   "source": [
    "data = pd.read_csv(\"exported.csv\")\n",
    "data.head()"
   ]
  },
  {
   "cell_type": "code",
   "execution_count": 77,
   "metadata": {},
   "outputs": [
    {
     "data": {
      "text/plain": [
       "LinearRegression(copy_X=True, fit_intercept=False, n_jobs=None, normalize=False)"
      ]
     },
     "execution_count": 77,
     "metadata": {},
     "output_type": "execute_result"
    }
   ],
   "source": [
    "df_three_genres_GMM = select_columns_users(data)\n",
    "df_mean_imputation_GMM = imputation_mean(df_three_genres_GMM,['Comedy','Drama','Action'])\n",
    "df_final_GMM = merge_ratings_users_new(df_final_ratings, df_mean_imputation_GMM ,df_movies_new)\n",
    "df_final_GMM['gender'] = get_dummy_gender(df_final_GMM)\n",
    "df_final_GMM['Aged'] = get_aged(df_final_GMM)\n",
    "(x_GMM,y_GMM) = x_y(df_final_GMM"
   ]
  },
  {
   "cell_type": "code",
   "execution_count": null,
   "metadata": {},
   "outputs": [],
   "source": [
    "linreg_GMM=LinearRegression(fit_intercept=False)\n",
    "linreg_GMM.fit(x_GMM,y_GMM)"
   ]
  },
  {
   "cell_type": "code",
   "execution_count": 121,
   "metadata": {},
   "outputs": [
    {
     "data": {
      "text/plain": [
       "0.6718658133239984"
      ]
     },
     "execution_count": 121,
     "metadata": {},
     "output_type": "execute_result"
    }
   ],
   "source": [
    "test_score = get_scores(linreg_GMM,x_GMM,y_GMM)\n",
    "test_score"
   ]
  },
  {
   "cell_type": "markdown",
   "metadata": {},
   "source": [
    "## GMM Imputation Prediction"
   ]
  },
  {
   "cell_type": "code",
   "execution_count": 122,
   "metadata": {},
   "outputs": [
    {
     "data": {
      "text/plain": [
       "0.05806345745169617"
      ]
     },
     "execution_count": 122,
     "metadata": {},
     "output_type": "execute_result"
    }
   ],
   "source": [
    "df_test_set_final_GMM = merge_ratings_users_new(df_test_set_ratings, df_mean_imputation_GMM,df_movies_new)\n",
    "df_test_set_final_GMM['gender'] = get_dummy_gender(df_test_set_final_GMM)\n",
    "df_test_set_final_GMM['Aged'] = get_aged(df_test_set_final_GMM)\n",
    "(x_mean_GMM,y_mean_GMM) = x_y(df_test_set_final_GMM)\n",
    "y_mean_predict_GMM = linreg_GMM.predict(x_mean_GMM)\n",
    "mean_norm_ave_GMM = np.linalg.norm(y_mean_GMM - y_mean_predict_GMM)/300\n",
    "mean_norm_ave_GMM"
   ]
  },
  {
   "cell_type": "code",
   "execution_count": 123,
   "metadata": {},
   "outputs": [],
   "source": [
    "mean_absolute_error(y_mean_GMM, y_mean_predict_GMM)\n",
    "diff_GMM = y_mean_predict_GMM - y_mean_GMM\n",
    "diff_Mean = y_mean_predict - y_mean"
   ]
  },
  {
   "cell_type": "markdown",
   "metadata": {},
   "source": [
    "## Compare performance of mean imputation and GMM"
   ]
  },
  {
   "cell_type": "code",
   "execution_count": 124,
   "metadata": {},
   "outputs": [
    {
     "data": {
      "text/plain": [
       "Text(0, 0.5, 'Predicted Values')"
      ]
     },
     "execution_count": 124,
     "metadata": {},
     "output_type": "execute_result"
    },
    {
     "data": {
      "image/png": "[encoded data removed]",
      "text/plain": [
       "<Figure size 432x288 with 1 Axes>"
      ]
     },
     "metadata": {
      "needs_background": "light"
     },
     "output_type": "display_data"
    }
   ],
   "source": [
    "table_plot = {'Actual Values': y_mean_GMM, \n",
    "              'Predicted Values for GMM': y_mean_predict_GMM,\n",
    "              'Error for GMM': diff_GMM,\n",
    "              'Predicted Values for Mean Imputation': y_mean_predict,\n",
    "             'Error for Mean Imputation': diff_Mean}\n",
    "df_plot = pd.DataFrame(data=table_plot)\n",
    "ax = df_plot.plot(kind=\"scatter\", x=\"Actual Values\",y=\"Predicted Values for GMM\", color=\"green\", \n",
    "                  label=\"GMM\")\n",
    "df_plot.plot( kind=\"scatter\", x=\"Actual Values\",y=\"Predicted Values for Mean Imputation\", color=\"yellow\", \n",
    "        label=\"Mean Imputation\", ax = ax)\n",
    "ax.set_xlabel(\"Actual Values\")\n",
    "ax.set_ylabel(\"Predicted Values\")"
   ]
  },
  {
   "cell_type": "code",
   "execution_count": 84,
   "metadata": {},
   "outputs": [
    {
     "data": {
      "text/plain": [
       "Text(0, 0.5, 'Errors')"
      ]
     },
     "execution_count": 84,
     "metadata": {},
     "output_type": "execute_result"
    },
    {
     "data": {
      "image/png": "[encoded data removed]",
      "text/plain": [
       "<Figure size 432x288 with 1 Axes>"
      ]
     },
     "metadata": {
      "needs_background": "light"
     },
     "output_type": "display_data"
    }
   ],
   "source": [
    "ax = df_plot.plot(kind=\"scatter\", x=\"Actual Values\",y=\"Error for GMM\", color=\"green\", \n",
    "                  label=\"GMM\")\n",
    "df_plot.plot( kind=\"scatter\", x=\"Actual Values\",y=\"Error for Mean Imputation\", color=\"yellow\", \n",
    "        label=\"Mean Imputation\", ax = ax)\n",
    "ax.set_xlabel(\"Actual Values\")\n",
    "ax.set_ylabel(\"Errors\")"
   ]
  },
  {
   "cell_type": "code",
   "execution_count": 125,
   "metadata": {},
   "outputs": [
    {
     "data": {
      "image/png": "[encoded data removed]",
      "text/plain": [
       "<Figure size 432x288 with 1 Axes>"
      ]
     },
     "metadata": {
      "needs_background": "light"
     },
     "output_type": "display_data"
    }
   ],
   "source": [
    "table_jitter_GMM = {'Error': diff_GMM,}\n",
    "df_jitter_GMM = pd.DataFrame(data=table_jitter_GMM)\n",
    "df_jitter_GMM['Imputation Method'] = 'GMM'\n",
    "table_jitter_Mean = {'Error': diff_Mean}\n",
    "df_jitter_Mean = pd.DataFrame(data=table_jitter_Mean)\n",
    "df_jitter_Mean['Imputation Method'] = 'Mean'\n",
    "df_jitter = df_jitter_GMM.merge(df_jitter_Mean, how = 'outer', \n",
    "                                on = ['Imputation Method','Error' ])\n",
    "ax = sns.stripplot(x=\"Imputation Method\", y=\"Error\", data=df_jitter, jitter=True)"
   ]
  },
  {
   "cell_type": "code",
   "execution_count": 126,
   "metadata": {},
   "outputs": [
    {
     "data": {
      "text/plain": [
       "{'whiskers': [<matplotlib.lines.Line2D at 0x1d3deeef4e0>,\n",
       "  <matplotlib.lines.Line2D at 0x1d3deeefa20>],\n",
       " 'caps': [<matplotlib.lines.Line2D at 0x1d3dfbe1e80>,\n",
       "  <matplotlib.lines.Line2D at 0x1d3dfbe1160>],\n",
       " 'boxes': [<matplotlib.lines.Line2D at 0x1d3deeef9e8>],\n",
       " 'medians': [<matplotlib.lines.Line2D at 0x1d3dfbe1e48>],\n",
       " 'fliers': [<matplotlib.lines.Line2D at 0x1d3df7de668>],\n",
       " 'means': []}"
      ]
     },
     "execution_count": 126,
     "metadata": {},
     "output_type": "execute_result"
    },
    {
     "data": {
      "image/png": "[encoded data removed]",
      "text/plain": [
       "<Figure size 432x288 with 1 Axes>"
      ]
     },
     "metadata": {
      "needs_background": "light"
     },
     "output_type": "display_data"
    }
   ],
   "source": [
    "plt.boxplot(x = 'Error', data=df_jitter_GMM)"
   ]
  },
  {
   "cell_type": "code",
   "execution_count": 127,
   "metadata": {},
   "outputs": [
    {
     "data": {
      "text/plain": [
       "{'whiskers': [<matplotlib.lines.Line2D at 0x1d3df920d30>,\n",
       "  <matplotlib.lines.Line2D at 0x1d3dea6a240>],\n",
       " 'caps': [<matplotlib.lines.Line2D at 0x1d3df779f60>,\n",
       "  <matplotlib.lines.Line2D at 0x1d3df779160>],\n",
       " 'boxes': [<matplotlib.lines.Line2D at 0x1d3df920cc0>],\n",
       " 'medians': [<matplotlib.lines.Line2D at 0x1d3df779828>],\n",
       " 'fliers': [<matplotlib.lines.Line2D at 0x1d3dff9cb70>],\n",
       " 'means': []}"
      ]
     },
     "execution_count": 127,
     "metadata": {},
     "output_type": "execute_result"
    },
    {
     "data": {
      "image/png": "[encoded data removed]",
      "text/plain": [
       "<Figure size 432x288 with 1 Axes>"
      ]
     },
     "metadata": {
      "needs_background": "light"
     },
     "output_type": "display_data"
    }
   ],
   "source": [
    "plt.boxplot(x = 'Error', data=df_jitter_Mean)"
   ]
  },
  {
   "cell_type": "code",
   "execution_count": 128,
   "metadata": {},
   "outputs": [
    {
     "data": {
      "text/plain": [
       "<matplotlib.axes._subplots.AxesSubplot at 0x1d3dfce26a0>"
      ]
     },
     "execution_count": 128,
     "metadata": {},
     "output_type": "execute_result"
    },
    {
     "data": {
      "image/png": "[encoded data removed]",
      "text/plain": [
       "<Figure size 432x288 with 1 Axes>"
      ]
     },
     "metadata": {
      "needs_background": "light"
     },
     "output_type": "display_data"
    }
   ],
   "source": [
    "sns.boxplot(x='Imputation Method',y='Error',data=df_jitter)"
   ]
  },
  {
   "cell_type": "code",
   "execution_count": 91,
   "metadata": {},
   "outputs": [],
   "source": [
    "def sep_testSet(df,testset_size):\n",
    "    \"\"\"\n",
    "    seperate test set from original data, seperate a random set of given size\n",
    "    return the test set and the rest of data (shuffled and reindexed)\n",
    "    \"\"\"\n",
    "    if testset_size > df.shape[0]:\n",
    "        raise Exception(\"test size size greater than size of df\")\n",
    "    else:\n",
    "        df.reindex(np.random.permutation(df.index))\n",
    "        df_shuffled = df.reindex(np.random.permutation(df.index))\n",
    "        return df_shuffled.head(testset_size).reset_index(drop=True),df_shuffled.tail(df.shape[0]-testset_size).reset_index(drop=True)"
   ]
  },
  {
   "cell_type": "code",
   "execution_count": 92,
   "metadata": {},
   "outputs": [],
   "source": [
    "def sep_10fold_crossvalidation(df,ifold):\n",
    "    \"\"\"\n",
    "    seperate validation set from training set for 10 fold cross validation\n",
    "    ifold gives the corresponding validation set and the other 9 set as training set\n",
    "    \"\"\"\n",
    "    fold = int(np.ceil(df.shape[0]/10))\n",
    "    start = (ifold-1)*fold\n",
    "    end = min(ifold*fold,df.shape[0])\n",
    "    vs =  [i for i in range(start,end)]\n",
    "    if start ==0:\n",
    "        ts =  [i for i in range(end,df.shape[0])]\n",
    "    elif end == df.shape[0]:\n",
    "        ts = [i for i in range(0,start)]\n",
    "    else:\n",
    "        ts = [i for i in range(end,df.shape[0])] +[i for i in range(0,start)]\n",
    "    \n",
    "    \n",
    "    return df[df.index.isin(ts)].reset_index(drop=True), df[df.index.isin(vs)].reset_index(drop=True)"
   ]
  },
  {
   "cell_type": "code",
   "execution_count": 95,
   "metadata": {},
   "outputs": [],
   "source": [
    "def make_trainingset_byGenre(ts):\n",
    "    \"\"\"\n",
    "    generate all_byGenre table using only information in the training set\n",
    "    input training set df, return all_byGenre df\n",
    "    \"\"\"\n",
    "    df_ts_byGenre = pd.DataFrame()\n",
    "    for g in (\"genre1\",\"genre2\",\"genre3\"):\n",
    "        df_ts_byGenre1=ts.loc[ts[g].notnull(),[\"userID\",\"age\",\"gender\",\"movieID\",\"name\",\"year\",g,\"rating\" ]]\n",
    "        new_cols = {\"userID\":\"userID\",\"age\":\"age\",\"gender\":\"gender\",\n",
    "                    \"movieID\":\"movieID\",\"name\":\"name\",\"year\":\"year\",\n",
    "                    \"genre1\":\"genre\",\"genre2\":\"genre\",\"genre3\":\"genre\",\n",
    "                    \"rating\":\"rating\"}\n",
    "        df_ts_byGenre1.rename(columns=new_cols,inplace=True)\n",
    "        df_ts_byGenre = df_ts_byGenre.append(df_ts_byGenre1,sort=True, ignore_index = True)\n",
    "    return df_ts_byGenre\n",
    "\n",
    "def make_users_new_cv(df_ts_byGenre):\n",
    "    \"\"\"\n",
    "    make new table users_new using input df_ts_byGenre df that's from the training data\n",
    "    w/ new variable indicating how many movies the user rated in each genre\n",
    "    and the average score for each genre\n",
    "    if none rated then ave_score = NaN\n",
    "    return the user_new table, and a table describing the stats\n",
    "    \"\"\"\n",
    "    lsGenre = ('Action', 'Adventure', 'Animation', \n",
    "               \"Children's\", 'Comedy', 'Crime', \n",
    "               'Documentary', 'Drama', 'Fantasy', \n",
    "               'Film-Noir', 'Horror', 'Musical', \n",
    "               'Mystery', 'Romance', 'Sci-Fi', \n",
    "               'Thriller', 'War', 'Western')\n",
    "\n",
    "    #a template dictionary indicating new column names in users_new table, \"_c\" is count and \"_ar\" is average rating (the genre names are exactly they way they are saved in the original data)\n",
    "    row = {\"userID\":None, \"age\":None, \"gender_c\":None, \n",
    "           'Action_c':0, 'Adventure_c':0, 'Animation_c':0, \n",
    "           \"Children's_c\":0, 'Comedy_c':0, 'Crime_c':0, \n",
    "           'Documentary_c':0, 'Drama_c':0, 'Fantasy_c':0, \n",
    "           'Film-Noir_c':0, 'Horror_c':0, 'Musical_c':0, \n",
    "           'Mystery_c':0, 'Romance_c':0, 'Sci-Fi_c':0, \n",
    "           'Thriller_c':0, 'War_c':0, 'Western_c':0,\n",
    "           'Action_ar':None, 'Adventure_ar':None, 'Animation_ar':None, \n",
    "           \"Children's_ar\":None, 'Comedy_ar':None, 'Crime_ar':None, \n",
    "           'Documentary_ar':None, 'Drama_ar':None, 'Fantasy_ar':None, \n",
    "           'Film-Noir_ar':None, 'Horror_ar':None, 'Musical_ar':None, \n",
    "           'Mystery_ar':None, 'Romance_ar':None, 'Sci-Fi_ar':None, \n",
    "           'Thriller_ar':None, 'War_ar':None, 'Western_ar':None}\n",
    "    # create an empty list, to save the rows we want in the new dataframe (currently a list of dict, will be converted later)\n",
    "    all_Users=[]\n",
    "\n",
    "    # select users table from database\n",
    "    c.execute(\"select * from users\")\n",
    "\n",
    "    # for each row in fetchall (each user), save original data and find count and average rating using all_byGenre dataframe\n",
    "    for user in c.fetchall(): \n",
    "        # make a copy of template dict\n",
    "        new_row = row.copy()\n",
    "        # save existing values for a user\n",
    "        new_row[\"userID\"] = user[0]\n",
    "        new_row[\"age\"] = user[1]\n",
    "        new_row[\"gender\"] = user[2]\n",
    "        # loop through the 18 genre\n",
    "        for g in lsGenre:      \n",
    "            # find a subset of all_byGrenre table with the current userID and genre (g) and save in a temperary df\n",
    "            df_temp = df_ts_byGenre[(df_ts_byGenre[\"userID\"]==user[0]) & (df_ts_byGenre[\"genre\"]==g) ]\n",
    "            # count how many rating events are in the emperary df\n",
    "            count = df_temp.shape[0]\n",
    "            # if count is non-zero, then find average, save in dict\n",
    "            if count != 0:\n",
    "                new_row[g+\"_ar\"] = df_temp[\"rating\"].mean()\n",
    "            # save count in dict\n",
    "            new_row[g+\"_c\"]=count\n",
    "        # add current row (user) to list of dicts\n",
    "        all_Users.append(new_row)\n",
    "    # convert list of dicts to a dataframe\n",
    "    users_new = pd.DataFrame(all_Users)\n",
    "    \n",
    "    gStats = []\n",
    "    stats = {\"genre\":None,\"%missing\":None, \"c_mean\":None,\n",
    "             \"c_median\":None,\"c_std\":None,\"c_mean_nm\":None,\n",
    "             \"c_median_nm\":None,\"c_std_nm\":None,\"ar_mean\":None,\n",
    "             \"ar_median\":None,\"ar_std\":None}\n",
    "    for g in lsGenre:\n",
    "        new_stats = stats.copy()\n",
    "        new_stats[\"genre\"]= g\n",
    "        new_stats[\"c_mean\"] = users_new[g+\"_c\"].mean()\n",
    "        new_stats[\"c_median\"] = users_new[g+\"_c\"].median()\n",
    "        new_stats[\"c_std\"] = users_new[g+\"_c\"].std()\n",
    "        temp_nm = users_new[users_new[g+\"_c\"]!=0]\n",
    "        new_stats[\"%missing\"] = temp_nm.shape[0]/users_new.shape[0]\n",
    "        new_stats[\"c_mean_nm\"] = temp_nm[g+\"_c\"].mean()\n",
    "        new_stats[\"c_median_nm\"] = temp_nm[g+\"_c\"].median()\n",
    "        new_stats[\"c_std_nm\"] = temp_nm[g+\"_c\"].std()\n",
    "        new_stats[\"ar_mean_nm\"] = temp_nm[g+\"_ar\"].mean()\n",
    "        new_stats[\"ar_median_nm\"] = temp_nm[g+\"_ar\"].median()\n",
    "        new_stats[\"ar_std_nm\"] = temp_nm[g+\"_ar\"].std()\n",
    "        gStats.append(new_stats)\n",
    "    users_stats = pd.DataFrame(gStats)\n",
    "        \n",
    "    # add all_Users to database as a new table users_new\n",
    "    # users_new.to_sql(\"users_new\", conn, if_exists=\"replace\", index=False)\n",
    "    return users_new,users_stats"
   ]
  },
  {
   "cell_type": "code",
   "execution_count": 100,
   "metadata": {},
   "outputs": [],
   "source": [
    "np.random.seed(100)\n",
    "test_set, allworkingData = sep_testSet(allData,20)\n",
    "training_set, validation_set = sep_10fold_crossvalidation(allworkingData,2)\n",
    "users_new_ts, users_stats_ts = make_users_new_cv(make_trainingset_byGenre(training_set))"
   ]
  },
  {
   "cell_type": "code",
   "execution_count": 5,
   "metadata": {},
   "outputs": [],
   "source": [
    "conn.close()"
   ]
  }
 ],
 "metadata": {
  "kernelspec": {
   "display_name": "Python 3",
   "language": "python",
   "name": "python3"
  },
  "language_info": {
   "codemirror_mode": {
    "name": "ipython",
    "version": 3
   },
   "file_extension": ".py",
   "mimetype": "text/x-python",
   "name": "python",
   "nbconvert_exporter": "python",
   "pygments_lexer": "ipython3",
   "version": "3.7.3"
  }
 },
 "nbformat": 4,
 "nbformat_minor": 2
}
